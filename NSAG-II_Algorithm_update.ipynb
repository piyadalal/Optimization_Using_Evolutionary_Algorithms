{
  "nbformat": 4,
  "nbformat_minor": 0,
  "metadata": {
    "colab": {
      "name": "Create_Rondom_indv_success.ipynb",
      "provenance": [],
      "collapsed_sections": [],
      "toc_visible": true
    },
    "kernelspec": {
      "display_name": "Python 3",
      "language": "python",
      "name": "python3"
    },
    "language_info": {
      "codemirror_mode": {
        "name": "ipython",
        "version": 3
      },
      "file_extension": ".py",
      "mimetype": "text/x-python",
      "name": "python",
      "nbconvert_exporter": "python",
      "pygments_lexer": "ipython3",
      "version": "3.7.5"
    }
  },
  "cells": [
    {
      "cell_type": "markdown",
      "metadata": {
        "colab_type": "text",
        "id": "d_q-FH0dgMQq"
      },
      "source": [
        "This example will perform character recognition through user input into the touch screen of an STM3240G-Evaluation board using the MNIST dataset."
      ]
    },
    {
      "cell_type": "code",
      "metadata": {
        "colab_type": "code",
        "id": "RcNx6RbVg3cc",
        "colab": {
          "base_uri": "https://localhost:8080/",
          "height": 156
        },
        "outputId": "5f0ea479-a4c5-4f2f-c67a-f22aa29aaaec"
      },
      "source": [
        "#%tensorflow_version 2.x\n",
        "#!apt-get install -y xxd\n",
        "!pip install deap\n",
        "#! pip uninstall -y tensorflow\n",
        "#! pip install -q tf-nightly\n",
        "#! pip install -q tensorflow-model-optimization\n",
        "!pip install numpy\n"
      ],
      "execution_count": 1,
      "outputs": [
        {
          "output_type": "stream",
          "text": [
            "Collecting deap\n",
            "\u001b[?25l  Downloading https://files.pythonhosted.org/packages/0a/eb/2bd0a32e3ce757fb26264765abbaedd6d4d3640d90219a513aeabd08ee2b/deap-1.3.1-cp36-cp36m-manylinux2010_x86_64.whl (157kB)\n",
            "\r\u001b[K     |██                              | 10kB 17.0MB/s eta 0:00:01\r\u001b[K     |████▏                           | 20kB 1.6MB/s eta 0:00:01\r\u001b[K     |██████▎                         | 30kB 2.1MB/s eta 0:00:01\r\u001b[K     |████████▍                       | 40kB 2.4MB/s eta 0:00:01\r\u001b[K     |██████████▍                     | 51kB 2.0MB/s eta 0:00:01\r\u001b[K     |████████████▌                   | 61kB 2.2MB/s eta 0:00:01\r\u001b[K     |██████████████▋                 | 71kB 2.4MB/s eta 0:00:01\r\u001b[K     |████████████████▊               | 81kB 2.6MB/s eta 0:00:01\r\u001b[K     |██████████████████▊             | 92kB 2.8MB/s eta 0:00:01\r\u001b[K     |████████████████████▉           | 102kB 2.7MB/s eta 0:00:01\r\u001b[K     |███████████████████████         | 112kB 2.7MB/s eta 0:00:01\r\u001b[K     |█████████████████████████       | 122kB 2.7MB/s eta 0:00:01\r\u001b[K     |███████████████████████████▏    | 133kB 2.7MB/s eta 0:00:01\r\u001b[K     |█████████████████████████████▏  | 143kB 2.7MB/s eta 0:00:01\r\u001b[K     |███████████████████████████████▎| 153kB 2.7MB/s eta 0:00:01\r\u001b[K     |████████████████████████████████| 163kB 2.7MB/s \n",
            "\u001b[?25hRequirement already satisfied: numpy in /usr/local/lib/python3.6/dist-packages (from deap) (1.18.5)\n",
            "Installing collected packages: deap\n",
            "Successfully installed deap-1.3.1\n",
            "Requirement already satisfied: numpy in /usr/local/lib/python3.6/dist-packages (1.18.5)\n"
          ],
          "name": "stdout"
        }
      ]
    },
    {
      "cell_type": "markdown",
      "metadata": {
        "colab_type": "text",
        "id": "4Y2hcinVg4Ws"
      },
      "source": [
        "Importing Tensorflow allows you to use its API to load the MNIST dataset. It should be noted that we need to use TF version <1.14 as this version includes the fully connected operation version 3 which is incompatible with the micro interpreters version 2."
      ]
    },
    {
      "cell_type": "code",
      "metadata": {
        "id": "j4HCMa4LwqK8",
        "colab_type": "code",
        "colab": {
          "base_uri": "https://localhost:8080/",
          "height": 51
        },
        "outputId": "a421c74e-ce33-4854-d3b9-31cc3a1d1b40"
      },
      "source": [
        "import random\n",
        "\n",
        "from deap import base\n",
        "from deap import creator\n",
        "from deap import tools\n",
        "import tensorflow as tf\n",
        "from tensorflow import keras\n",
        "\n",
        "(images_train, labels_train), (images_test, labels_test) = tf.keras.datasets.mnist.load_data()"
      ],
      "execution_count": 2,
      "outputs": [
        {
          "output_type": "stream",
          "text": [
            "Downloading data from https://storage.googleapis.com/tensorflow/tf-keras-datasets/mnist.npz\n",
            "11493376/11490434 [==============================] - 0s 0us/step\n"
          ],
          "name": "stdout"
        }
      ]
    },
    {
      "cell_type": "code",
      "metadata": {
        "colab_type": "code",
        "id": "MnCKuVlVjRhX",
        "colab": {
          "base_uri": "https://localhost:8080/",
          "height": 316
        },
        "outputId": "67b31ba9-4124-476e-b482-34bd34062738"
      },
      "source": [
        "import matplotlib.pyplot as plt\n",
        "test_index = 12345\n",
        "print(labels_train)\n",
        "print(labels_train[test_index])\n",
        "plt.imshow(images_train[test_index], cmap='Greys')"
      ],
      "execution_count": 3,
      "outputs": [
        {
          "output_type": "stream",
          "text": [
            "[5 0 4 ... 5 6 8]\n",
            "3\n"
          ],
          "name": "stdout"
        },
        {
          "output_type": "execute_result",
          "data": {
            "text/plain": [
              "<matplotlib.image.AxesImage at 0x7f197d0d0f98>"
            ]
          },
          "metadata": {
            "tags": []
          },
          "execution_count": 3
        },
        {
          "output_type": "display_data",
          "data": {
            "image/png": "[encoded data removed]",
            "text/plain": [
              "<Figure size 432x288 with 1 Axes>"
            ]
          },
          "metadata": {
            "tags": [],
            "needs_background": "light"
          }
        }
      ]
    },
    {
      "cell_type": "markdown",
      "metadata": {
        "colab_type": "text",
        "id": "-76bBO2rlABd"
      },
      "source": [
        "The input of the neural network needs to know the input shape that it is going to be fed"
      ]
    },
    {
      "cell_type": "code",
      "metadata": {
        "colab_type": "code",
        "id": "gWwrc29FlEgQ",
        "colab": {
          "base_uri": "https://localhost:8080/",
          "height": 34
        },
        "outputId": "6088b20e-6bd3-4ea4-a238-acb72ee73e19"
      },
      "source": [
        "input_shape = images_train.shape\n",
        "print(\"{} images, each with shape of {} pixels x {} pixels\".format(input_shape[0], input_shape[1], input_shape[2]))"
      ],
      "execution_count": 4,
      "outputs": [
        {
          "output_type": "stream",
          "text": [
            "60000 images, each with shape of 28 pixels x 28 pixels\n"
          ],
          "name": "stdout"
        }
      ]
    },
    {
      "cell_type": "markdown",
      "metadata": {
        "colab_type": "text",
        "id": "zn-3cvuymAWT"
      },
      "source": [
        "The input shape for the model must be reshaped to 4D as the current shape does not show that each pixel is a 1D array where only the greyscale value (0-255) is stored. The input tensor's shape will be 3D as it will take a single-channel image. "
      ]
    },
    {
      "cell_type": "code",
      "metadata": {
        "colab_type": "code",
        "id": "qOZnWmzUmTuI",
        "colab": {
          "base_uri": "https://localhost:8080/",
          "height": 34
        },
        "outputId": "c7dc16f2-98d1-4a06-8963-362beb463545"
      },
      "source": [
        "images_train = images_train.reshape(images_train.shape[0], images_train.shape[1], images_train.shape[2], 1)\n",
        "images_test = images_test.reshape(images_test.shape[0], images_test.shape[1], images_test.shape[2], 1)\n",
        "input_tensor_shape = (images_test.shape[1], images_test.shape[2], 1)\n",
        "print(\"Input shape: {}\".format(input_shape))"
      ],
      "execution_count": 5,
      "outputs": [
        {
          "output_type": "stream",
          "text": [
            "Input shape: (60000, 28, 28)\n"
          ],
          "name": "stdout"
        }
      ]
    },
    {
      "cell_type": "markdown",
      "metadata": {
        "colab_type": "text",
        "id": "mjPMYztkm0tg"
      },
      "source": [
        "The greyscale values stores in the images' pixels are 8 bit values and need to be normalized into floats between 0-1."
      ]
    },
    {
      "cell_type": "code",
      "metadata": {
        "colab_type": "code",
        "id": "adD13BYinHlG",
        "colab": {
          "base_uri": "https://localhost:8080/",
          "height": 34
        },
        "outputId": "c7b5f6d4-6447-4cc4-f7fd-a838a4191ce2"
      },
      "source": [
        "\n",
        "\n",
        "images_train = images_train.astype('float32')\n",
        "images_test = images_test.astype('float32')\n",
        "print()\n",
        "images_train /= 255\n",
        "images_test /= 255"
      ],
      "execution_count": 6,
      "outputs": [
        {
          "output_type": "stream",
          "text": [
            "\n"
          ],
          "name": "stdout"
        }
      ]
    },
    {
      "cell_type": "markdown",
      "metadata": {
        "id": "E_2kP1T5mQY2",
        "colab_type": "text"
      },
      "source": [
        "Model Configuration Data structure to  store in JSON file. Double-click (or enter) to edit"
      ]
    },
    {
      "cell_type": "code",
      "metadata": {
        "id": "fgrrXvh6pAa5",
        "colab_type": "code",
        "colab": {}
      },
      "source": [
        "from enum import Enum, auto\n",
        "import sys\n",
        "\n",
        "class Conv2DArgs(Enum):\n",
        "  'Args needed for creating Conv2DArgs layer, list not complete'\n",
        "  FILTERS = auto()\n",
        "  KERNEL_SIZE = auto()\n",
        "  STRIDES = auto()\n",
        "  INPUT_SIZE = auto()\n",
        "\n",
        "class MaxPool2DArgs(Enum):\n",
        "  'Args needed for creating MaxPool2D layer, list not complete'\n",
        "  POOL_SIZE = auto()\n",
        "  STRIDES = auto()\n",
        "\n",
        "class ReshapeArgs(Enum):\n",
        "  'Args needed for creating Reshape layer'\n",
        "  TARGET_SHAPE = auto()\n",
        "\n",
        "class DenseArgs(Enum):\n",
        "  'Args needed for creating Dense layer, list not complete'\n",
        "  UNITS = auto()\n",
        "  ACTIVATION = auto()\n",
        "\n",
        "class DropoutArgs(Enum):\n",
        "  'Args needed for creating Dropout layer, list not complete'\n",
        "  RATE = auto()\n",
        "\n",
        "class ModelLayer:\n",
        "  'Common layer properties'\n",
        "\n",
        "  def __init__(self, name):\n",
        "    self.name = name\n",
        "    self.args = {}\n",
        "\n",
        "class Conv2DLayer(ModelLayer):\n",
        "\n",
        "  def __init__(self, filters, kernel_size, strides, input_size):\n",
        "    super().__init__(\"Conv2D\")\n",
        "    self.args[Conv2DArgs.FILTERS.name] = filters\n",
        "    self.args[Conv2DArgs.KERNEL_SIZE.name] = kernel_size\n",
        "    self.args[Conv2DArgs.STRIDES.name] = strides\n",
        "    self.args[Conv2DArgs.INPUT_SIZE.name] = input_size \n",
        "\n",
        "  def getkeraslayer(self):\n",
        "    kernel_size=self.args.get(Conv2DArgs.KERNEL_SIZE.name)\n",
        "    strides=self.args.get(Conv2DArgs.STRIDES.name)\n",
        "    input_shape=self.args.get(Conv2DArgs.INPUT_SIZE.name)\n",
        "    return keras.layers.Conv2D(\n",
        "        self.args.get(Conv2DArgs.FILTERS.name), \n",
        "        kernel_size=self.args.get(Conv2DArgs.KERNEL_SIZE.name), \n",
        "        strides=self.args.get(Conv2DArgs.STRIDES.name), \n",
        "        input_shape=self.args.get(Conv2DArgs.INPUT_SIZE.name))\n",
        "\n",
        "class MaxPool2DLayer(ModelLayer):\n",
        "\n",
        "  def __init__(self, pool_size, strides):\n",
        "    super().__init__(\"MaxPool2D\")\n",
        "    self.args[MaxPool2DArgs.POOL_SIZE.name] = pool_size\n",
        "    self.args[MaxPool2DArgs.STRIDES.name] = strides \n",
        "\n",
        "  def getkeraslayer(self):\n",
        "    return keras.layers.MaxPool2D(\n",
        "        pool_size=self.args.get(MaxPool2DArgs.POOL_SIZE.name),\n",
        "        strides=self.args.get(MaxPool2DArgs.STRIDES.name)\n",
        "    )\n",
        "\n",
        "class MaxPool3DLayer(MaxPool2DLayer):\n",
        "\n",
        "  def __init__(self, pool_size, strides):\n",
        "    super(MaxPool2DLayer, self).__init__(\"MaxPool3D\")\n",
        "    super().__init__(pool_size, strides)\n",
        "    \n",
        "  def getkeraslayer(self):\n",
        "    return keras.layers.MaxPool3D(\n",
        "        pool_size=self.args.get(MaxPool2DArgs.POOL_SIZE.name),\n",
        "        strides=self.args.get(MaxPool2DArgs.STRIDES.name)\n",
        "    )\n",
        "  \n",
        "class ReshapeLayer(ModelLayer):\n",
        "\n",
        "  def __init__(self, target_shape):\n",
        "    super().__init__(\"Reshape\")\n",
        "    self.args[ReshapeArgs.TARGET_SHAPE.name] = target_shape\n",
        "\n",
        "  def getkeraslayer(self):\n",
        "    target_shape = self.args.get(ReshapeArgs.TARGET_SHAPE.name)\n",
        "    return keras.layers.Reshape(target_shape)\n",
        "\n",
        "class DenseLayer(ModelLayer):\n",
        "\n",
        "  def __init__(self, units, activation):\n",
        "    super().__init__(\"Dense\")\n",
        "    self.args[DenseArgs.UNITS.name] = units\n",
        "    self.args[DenseArgs.ACTIVATION.name] = activation\n",
        "\n",
        "  def getkeraslayer(self):\n",
        "    units = self.args.get(DenseArgs.UNITS.name)\n",
        "    activation = self.args.get(DenseArgs.ACTIVATION.name)\n",
        "    return keras.layers.Dense(units, activation=activation)\n",
        "\n",
        "class FlattenLayer(ModelLayer):\n",
        "\n",
        "  def __init__(self):\n",
        "    super().__init__(\"Flatten\")\n",
        "\n",
        "  def getkeraslayer(self):\n",
        "    return keras.layers.Flatten()\n",
        "\n",
        "class Dropout(ModelLayer):\n",
        "\n",
        "  def __init__(self, rate):\n",
        "    super().__init__(\"Dropout\")\n",
        "    self.args[DropoutArgs.RATE.name] = rate\n",
        "  \n",
        "  def getkeraslayer(self):\n",
        "    rate = self.args.get(DropoutArgs.RATE.name)\n",
        "    return keras.layers.Dropout(rate)\n",
        "  "
      ],
      "execution_count": 7,
      "outputs": []
    },
    {
      "cell_type": "markdown",
      "metadata": {
        "id": "yKLtorXUJD7q",
        "colab_type": "text"
      },
      "source": [
        "For Model_Configuration1, the the convolutional NN that we \n",
        "will use to classify the input images taken from the touch screen will have the following layer structure\n",
        "\n",
        "*  Conv2D\n",
        "*  MaxPooling2D\n",
        "*   Flatten\n",
        "*   Dense\n",
        "*   Dropout\n",
        "\n",
        "\n",
        "\n"
      ]
    },
    {
      "cell_type": "markdown",
      "metadata": {
        "id": "CglsN8z8LCAy",
        "colab_type": "text"
      },
      "source": [
        "The Conv2D layer extracts features from the input image using filters that slide across the input image. For eg. if we use 28 different filters to extract a large number of unique features that will then be used to classify each image in the later layers. Thus the output of this layer will have the shape (28, 28, 1, 28)\n",
        "\n",
        "MaxPooling2D is used to reduce the output size of the convolutional layer by reducing for eg: each 2 x 2 unique chunk of the output down in to a singular value, this reducing the output's size by a factor of 4. This will reduce our (28, 28, 1, 28) tensor down to a (7, 7, 1, 28) tensor.\n",
        "\n",
        "The Flatten layer then takes this 2D array (our image) and shapes it into a single dimension (1372).\n",
        "\n",
        "The following Dense layer reduces the input 1372 values down into 128 classes, taking the first steps in classifying the image into on of the 10 output classes (0-9). This is done using the relu activation function.\n",
        "\n",
        "The Dropout layer sets eg: 20% (if Drop out rate =0.2) of the tensor's values to 0 so as to reduce overfitting.\n",
        "\n",
        "Finally the last Dense layer reduces the output value down to the 10 classes, each representing a digit between 0 and 9. This is done using the softmax activation function which makes the outputs a set of probabilities summing to 1.\n"
      ]
    },
    {
      "cell_type": "markdown",
      "metadata": {
        "id": "CJTykh07DQLL",
        "colab_type": "text"
      },
      "source": [
        "Here, each individual is a list of dictionary, where each dictionary is a layer with keys as different attributes or parameters  of the layer  and values as the values of those parameters which are generated randomly on creation of a new individual or a new CNN architecture.\n",
        "Upto this point no. of layers in a CNN architecture if fixed which indicates that individual size is same in the population."
      ]
    },
    {
      "cell_type": "markdown",
      "metadata": {
        "id": "LpEKcz4bEQrO",
        "colab_type": "text"
      },
      "source": [
        "In the creation of individual i.e a CNN architecture the Conv layer parameters are randomly generated and checked for validity conditions using some equations to validate CNN filter_size, padding and stride."
      ]
    },
    {
      "cell_type": "markdown",
      "metadata": {
        "id": "Liw5-nqEHQsI",
        "colab_type": "text"
      },
      "source": [
        "Further randomness need to applied on the parameters of other layers in the architecture like the pool size generation, No. of Activation units and Dropout rate.Also, sequence and number of layers in CNN need to changed randomly hile generating a new Individual."
      ]
    },
    {
      "cell_type": "code",
      "metadata": {
        "id": "nozxrpGU2M1o",
        "colab_type": "code",
        "colab": {}
      },
      "source": [
        "# Modular Functions to generate Layers \n",
        "\n",
        "def filters():\n",
        "  while True:\n",
        "    n = random.randint(1, 20)\n",
        "    if n%2 == 0:\n",
        "        return n\n",
        "def kernel_size():\n",
        "  kernel_size=[1,3,5]\n",
        "  return random.choice(kernel_size)\n",
        "\n",
        "\n",
        "def Create_Conv():\n",
        "    Conv_Layer={}\n",
        "    Conv_Layer['name']='Conv2D'\n",
        "    Conv_Layer['INPUT_SIZE']=[28,28,1]\n",
        "    Conv_Layer['FILTERS']=filters() #check on usage F<=N\n",
        "    kernel=kernel_size()\n",
        "    Conv_Layer['KERNEL_SIZE']=[kernel,kernel]\n",
        "    Conv_Layer['STRIDE']=(1,1)\n",
        "    Conv_Layer['PADDING']=int((kernel_size()-1)/2)\n",
        "    if(Conv_Layer['FILTERS']>= Conv_Layer['INPUT_SIZE'][0]):\n",
        "      print(Conv_Layer['FILTERS'])\n",
        "      print(Conv_Layer['INPUT_SIZE'][0])\n",
        "      print('Invalid Conv Layer')\n",
        "    else:\n",
        "      print(\"valid Conv Layer\")\n",
        "      print(Conv_Layer)\n",
        "    return Conv_Layer\n",
        "\n",
        "def Create_Flatten():\n",
        "    Flatten_Layer={}\n",
        "    Flatten_Layer['name']='Flatten'\n",
        "    print(\"Created Flatten Layer\")\n",
        "    return Flatten_Layer\n",
        "\n",
        "def Create_Maxpool():\n",
        "    Pool_Layer={}\n",
        "    Pool_Layer['name']='Maxpool2D'\n",
        "    Pool_Layer['POOL_SIZE']= [2, 2]\n",
        "    print(\"Created Maxpool Layer\")\n",
        "    return Pool_Layer\n",
        "\n",
        "def Create_Dense():\n",
        "    Dense_Layer={}\n",
        "    Dense_Layer['name']='Dense'\n",
        "    Dense_Layer['UNITS']=128\n",
        "    Dense_Layer['ACTIVATION']='relu'\n",
        "    print(\"Created Dense Layer\")\n",
        "    return Dense_Layer\n",
        "\n",
        "def Create_Output():\n",
        "    Dense_Layer={}\n",
        "    Dense_Layer['name']='Dense'\n",
        "    Dense_Layer['UNITS']=10\n",
        "    Dense_Layer['ACTIVATION']='softmax'\n",
        "    print(\"Created Final Static Dense Layer\")\n",
        "    return Dense_Layer\n",
        "\n",
        "\n",
        "def Create_Dropout():\n",
        "    Dropout_Layer={}\n",
        "    Dropout_Layer['name']='Dropout'\n",
        "    Dropout_Layer['RATE']=0.2\n",
        "    print(\"Created Dropout Layer\")\n",
        "    return Dropout_Layer\n"
      ],
      "execution_count": 10,
      "outputs": []
    },
    {
      "cell_type": "markdown",
      "metadata": {
        "id": "ycTEqp0NHISM",
        "colab_type": "text"
      },
      "source": [
        "Here, the create() function takes at least two arguments, a name for the newly created class eg: \"FitnessMulti\" and a base class eg: \"base.Fitness\". Any subsequent argument becomes an attribute of the class. Here, weights are the attributes of our newly created Class \"FItnessMulti\". For Multi-Objective fitnesses the weights attribute must be a tuple where negative and positive signs indicates minimizing and maximizing the fitness respectively."
      ]
    },
    {
      "cell_type": "code",
      "metadata": {
        "id": "B6rb2saZ2O2K",
        "colab_type": "code",
        "colab": {}
      },
      "source": [
        "# creator is a class factory that can build new classes at run-time\n",
        "# fitness function on Individual \n",
        "creator.create(\"FitnessMulti\", base.Fitness, weights=(-1.0, ))"
      ],
      "execution_count": 9,
      "outputs": []
    },
    {
      "cell_type": "markdown",
      "metadata": {
        "id": "U4Q-c9tTKOsJ",
        "colab_type": "text"
      },
      "source": [
        "On running the above cell the datatype FitnessMulti is added dynamically to the creator subpackage and we can access it directly as ‘creator.FitnessMulti’."
      ]
    },
    {
      "cell_type": "markdown",
      "metadata": {
        "id": "DxCYe4KmJ4U1",
        "colab_type": "text"
      },
      "source": [
        "We need first to define our individual, strategy and fitness as datatypes using Create. The first argument gives the datatype name, the second gives the base class and from the third argument the attributes for the class will follow up."
      ]
    },
    {
      "cell_type": "markdown",
      "metadata": {
        "id": "IqhznfxAGmvb",
        "colab_type": "text"
      },
      "source": [
        "The individual created will be a simple list containing each layer as a dictionary for eg: [{Layer1},{Layer2},{Layer3}...{No_of_Layers}] with a minimizing an objectives fitness attribute i.e RMSE. In order to produce this kind of individual, we need to create an Individual class, using the creator, that will inherit from the standard list type and have a fitness attribute.\n",
        " DEAP looks for fitness attribute when it wants to update the fitness value or read it, ex. fitness Multi as one of the argument is passed into the function."
      ]
    },
    {
      "cell_type": "code",
      "metadata": {
        "id": "K5Sjgnyk9U8Z",
        "colab_type": "code",
        "colab": {
          "base_uri": "https://localhost:8080/",
          "height": 34
        },
        "outputId": "3be88869-d1e9-47ed-cf0a-d332628ef9cf"
      },
      "source": [
        "creator.create(\"Individual\", list, fitness=creator.FitnessMulti)\n",
        "#print(creator.Individual)"
      ],
      "execution_count": 11,
      "outputs": [
        {
          "output_type": "stream",
          "text": [
            "<class 'deap.creator.Individual'>\n"
          ],
          "name": "stdout"
        }
      ]
    },
    {
      "cell_type": "markdown",
      "metadata": {
        "id": "v49mjxkwKsCi",
        "colab_type": "text"
      },
      "source": [
        "A toolbox stores functions and their arguments."
      ]
    },
    {
      "cell_type": "code",
      "metadata": {
        "id": "hddRWRkU9XI7",
        "colab_type": "code",
        "colab": {}
      },
      "source": [
        "toolbox = base.Toolbox()"
      ],
      "execution_count": 12,
      "outputs": []
    },
    {
      "cell_type": "markdown",
      "metadata": {
        "id": "Yau20a3FHc4r",
        "colab_type": "text"
      },
      "source": [
        "The newly introduced register() method takes at least two arguments; an alias and a function assigned to this alias. Any subsequent argument is passed to the function when called. Thus, the preceding code creates two aliases in the toolbox; Layer_dict and Individual."
      ]
    },
    {
      "cell_type": "markdown",
      "metadata": {
        "id": "3ufhZELTIXTs",
        "colab_type": "text"
      },
      "source": [
        "The first one redirects to the create_layer() function which returns different types of Layers each time when called. The second one is a shortcut to the initRepeat() function, fixing its container argument to the creator.Individual class, its func argument to the toolbox.Layer_dict() function, and its number of repetitions argument to No_of_layers to be created for each Individual."
      ]
    },
    {
      "cell_type": "markdown",
      "metadata": {
        "id": "3LB1FcQYIbKi",
        "colab_type": "text"
      },
      "source": [
        "Now, calling toolbox.individual() will call initRepeat() with the fixed arguments and return a complete creator.Individual composed of each layer as a dictionary with 'n' such dictionaries, where n=No_of_Layers  with a minimizing multi-objective fitness attribute."
      ]
    },
    {
      "cell_type": "markdown",
      "metadata": {
        "id": "czLicfmqFJM3",
        "colab_type": "text"
      },
      "source": [
        "Populations are much like individuals. Instead of being initialized with attributes, they are filled with individuals. The population is initialized using the toolbox and the initRepeat() function directly."
      ]
    },
    {
      "cell_type": "markdown",
      "metadata": {
        "id": "iF-nfZvuIv7F",
        "colab_type": "text"
      },
      "source": [
        "Calling toolbox.population() will readily return a complete population in a list, providing a number of times the repeat helper must be repeated as an argument of the population function. The following example produces a population with 6 individuals."
      ]
    },
    {
      "cell_type": "code",
      "metadata": {
        "id": "BF1I-_AvFDOC",
        "colab_type": "code",
        "colab": {}
      },
      "source": [
        "# function to create an individual with pre-defined no. of layers \n",
        "def create_Layer(no_layers):\n",
        "  \n",
        "  print(\"printing the no. of layers created\")\n",
        "  print(create_Layer.counter )\n",
        "  if(create_Layer.counter%no_layers== 0):\n",
        "    create_Layer.counter += 1\n",
        "    return Create_Conv()\n",
        "  if(create_Layer.counter%no_layers ==1):\n",
        "    create_Layer.counter += 1\n",
        "    return Create_Maxpool()\n",
        "  if(create_Layer.counter%no_layers ==2):\n",
        "    create_Layer.counter += 1\n",
        "    return Create_Flatten()\n",
        "  if(create_Layer.counter%no_layers ==3):\n",
        "    create_Layer.counter += 1\n",
        "    return Create_Dense()\n",
        "  if(create_Layer.counter%no_layers ==4):\n",
        "    create_Layer.counter += 1\n",
        "    return Create_Dropout()\n",
        "  if(create_Layer.counter%no_layers ==5):\n",
        "    create_Layer.counter += 1\n",
        "    return Create_Output()"
      ],
      "execution_count": 13,
      "outputs": []
    },
    {
      "cell_type": "code",
      "metadata": {
        "id": "f3gvHIK5ARHa",
        "colab_type": "code",
        "colab": {
          "base_uri": "https://localhost:8080/",
          "height": 1000
        },
        "outputId": "3497a68d-7793-40cc-c44c-0305e678e466"
      },
      "source": [
        "print(dir(toolbox))\n",
        "\n",
        "no_layers=6\n",
        "create_Layer.counter=0\n",
        "\n",
        "toolbox.register(\"Layer\", create_Layer,no_layers)\n",
        "\n",
        "toolbox.register(\"Individual\", tools.initRepeat, creator.Individual,\n",
        "                 toolbox.Layer,no_layers)\n",
        "toolbox.register(\"population\", tools.initRepeat, list, toolbox.Individual)\n",
        "\n",
        "population=toolbox.population(n=6)\n"
      ],
      "execution_count": 14,
      "outputs": [
        {
          "output_type": "stream",
          "text": [
            "['__class__', '__delattr__', '__dict__', '__dir__', '__doc__', '__eq__', '__format__', '__ge__', '__getattribute__', '__gt__', '__hash__', '__init__', '__init_subclass__', '__le__', '__lt__', '__module__', '__ne__', '__new__', '__reduce__', '__reduce_ex__', '__repr__', '__setattr__', '__sizeof__', '__str__', '__subclasshook__', '__weakref__', 'clone', 'decorate', 'map', 'register', 'unregister']\n",
            "printing the no. of layers created\n",
            "0\n",
            "valid Conv Layer\n",
            "{'name': 'Conv2D', 'INPUT_SIZE': [28, 28, 1], 'FILTERS': 14, 'KERNEL_SIZE': [3, 3], 'STRIDE': (1, 1), 'PADDING': 0}\n",
            "printing the no. of layers created\n",
            "1\n",
            "Created Maxpool Layer\n",
            "printing the no. of layers created\n",
            "2\n",
            "Created Flatten Layer\n",
            "printing the no. of layers created\n",
            "3\n",
            "Created Dense Layer\n",
            "printing the no. of layers created\n",
            "4\n",
            "Created Dropout Layer\n",
            "printing the no. of layers created\n",
            "5\n",
            "Created Final Static Dense Layer\n",
            "printing the no. of layers created\n",
            "6\n",
            "valid Conv Layer\n",
            "{'name': 'Conv2D', 'INPUT_SIZE': [28, 28, 1], 'FILTERS': 14, 'KERNEL_SIZE': [1, 1], 'STRIDE': (1, 1), 'PADDING': 2}\n",
            "printing the no. of layers created\n",
            "7\n",
            "Created Maxpool Layer\n",
            "printing the no. of layers created\n",
            "8\n",
            "Created Flatten Layer\n",
            "printing the no. of layers created\n",
            "9\n",
            "Created Dense Layer\n",
            "printing the no. of layers created\n",
            "10\n",
            "Created Dropout Layer\n",
            "printing the no. of layers created\n",
            "11\n",
            "Created Final Static Dense Layer\n",
            "printing the no. of layers created\n",
            "12\n",
            "valid Conv Layer\n",
            "{'name': 'Conv2D', 'INPUT_SIZE': [28, 28, 1], 'FILTERS': 4, 'KERNEL_SIZE': [5, 5], 'STRIDE': (1, 1), 'PADDING': 0}\n",
            "printing the no. of layers created\n",
            "13\n",
            "Created Maxpool Layer\n",
            "printing the no. of layers created\n",
            "14\n",
            "Created Flatten Layer\n",
            "printing the no. of layers created\n",
            "15\n",
            "Created Dense Layer\n",
            "printing the no. of layers created\n",
            "16\n",
            "Created Dropout Layer\n",
            "printing the no. of layers created\n",
            "17\n",
            "Created Final Static Dense Layer\n",
            "printing the no. of layers created\n",
            "18\n",
            "valid Conv Layer\n",
            "{'name': 'Conv2D', 'INPUT_SIZE': [28, 28, 1], 'FILTERS': 10, 'KERNEL_SIZE': [3, 3], 'STRIDE': (1, 1), 'PADDING': 2}\n",
            "printing the no. of layers created\n",
            "19\n",
            "Created Maxpool Layer\n",
            "printing the no. of layers created\n",
            "20\n",
            "Created Flatten Layer\n",
            "printing the no. of layers created\n",
            "21\n",
            "Created Dense Layer\n",
            "printing the no. of layers created\n",
            "22\n",
            "Created Dropout Layer\n",
            "printing the no. of layers created\n",
            "23\n",
            "Created Final Static Dense Layer\n",
            "printing the no. of layers created\n",
            "24\n",
            "valid Conv Layer\n",
            "{'name': 'Conv2D', 'INPUT_SIZE': [28, 28, 1], 'FILTERS': 14, 'KERNEL_SIZE': [1, 1], 'STRIDE': (1, 1), 'PADDING': 2}\n",
            "printing the no. of layers created\n",
            "25\n",
            "Created Maxpool Layer\n",
            "printing the no. of layers created\n",
            "26\n",
            "Created Flatten Layer\n",
            "printing the no. of layers created\n",
            "27\n",
            "Created Dense Layer\n",
            "printing the no. of layers created\n",
            "28\n",
            "Created Dropout Layer\n",
            "printing the no. of layers created\n",
            "29\n",
            "Created Final Static Dense Layer\n",
            "printing the no. of layers created\n",
            "30\n",
            "valid Conv Layer\n",
            "{'name': 'Conv2D', 'INPUT_SIZE': [28, 28, 1], 'FILTERS': 8, 'KERNEL_SIZE': [5, 5], 'STRIDE': (1, 1), 'PADDING': 0}\n",
            "printing the no. of layers created\n",
            "31\n",
            "Created Maxpool Layer\n",
            "printing the no. of layers created\n",
            "32\n",
            "Created Flatten Layer\n",
            "printing the no. of layers created\n",
            "33\n",
            "Created Dense Layer\n",
            "printing the no. of layers created\n",
            "34\n",
            "Created Dropout Layer\n",
            "printing the no. of layers created\n",
            "35\n",
            "Created Final Static Dense Layer\n"
          ],
          "name": "stdout"
        }
      ]
    },
    {
      "cell_type": "code",
      "metadata": {
        "id": "KI8At9nQDSPg",
        "colab_type": "code",
        "colab": {}
      },
      "source": [
        "\n",
        "class Model:\n",
        "\n",
        "  def __init__(self, individual, optimizer='adam', \n",
        "               loss='sparse_categorical_crossentropy', metrics=['accuracy']):\n",
        "    print(\"enetered Model\")\n",
        "    print(\"printing individual:\")\n",
        "    print(individual)\n",
        "    self.optimizer = optimizer\n",
        "    self.loss = loss\n",
        "    self.metrics = metrics\n",
        "    self.layers = []\n",
        "    for layer in individual: \n",
        "      #print(\"printing layer:\")\n",
        "      #print(layer)\n",
        "      #print(len(individual))\n",
        "      layer_no=len(individual) #population =[[{layer1_ind1},{layer2_ind1},{layer3_ind1},{layer4_ind1},{layer5_ind1}],[{layer1_ind2},{layer2_ind2},{layer3_ind2},{layer4_ind2},{layer5_ind2}}],[]]\n",
        "      name=layer['name']\n",
        "      if name == \"Conv2D\":\n",
        "        print(\"entered conv2d\")\n",
        "        strides=layer['STRIDE']\n",
        "        filters = layer[\"FILTERS\"]\n",
        "        kernel = layer[\"KERNEL_SIZE\"]\n",
        "        kernel_size = tuple(kernel)\n",
        "        input = layer[\"INPUT_SIZE\"]\n",
        "        input_size = tuple(input)\n",
        "        self.layers.append(Conv2DLayer(filters, kernel_size, strides, input_size))\n",
        "        #print(\"Created {} layer with {} filters, {} kernel size, {} stride size and {} input size\".format(\n",
        "        #name, filters, kernel_size, strides, input_size\n",
        "      #))\n",
        "      elif name == \"Maxpool2D\" or name == \"MaxPool3D\":\n",
        "        print(\"entered maxpool\")\n",
        "        pool_size = layer[\"POOL_SIZE\"]\n",
        "        strides = None\n",
        "        if name == \"Maxpool2D\":\n",
        "          self.layers.append(MaxPool2DLayer(pool_size, strides))\n",
        "          #print(\"Created {} layer with {} pool size and {} stride size\".format(\n",
        "              #name, pool_size, strides\n",
        "          #))\n",
        "        else:\n",
        "          self.layers.append(MaxPool3DLayer(pool_size, strides))\n",
        "          #print(\"Created {} layer with {} pool size and {} stride size\".format(\n",
        "              #name, pool_size, strides\n",
        "        #))\n",
        "      elif name == \"Reshape\":\n",
        "        print(\"entered reshape\")\n",
        "        arg=population[str(layer)][\"args\"]\n",
        "        target_shape = layer[\"TARGET_SHAPE\"]\n",
        "        self.layers.append(ReshapeLayer(target_shape))\n",
        "        #print(\" Created {} layer with {} target shape\".format(name, target_shape))\n",
        "      elif name == \"Dense\":\n",
        "        \n",
        "        units = layer[\"UNITS\"]\n",
        "        if(units==10):\n",
        "          print(\"entered output static\")\n",
        "        else:\n",
        "          print(\"entered Dense1\")\n",
        "        activation = getattr(tf.nn, layer[\"ACTIVATION\"])\n",
        "        self.layers.append(DenseLayer(units, activation))\n",
        "        #print(\"Created {} layer with {} units and {} activation\".format(name, units, activation))\n",
        "      elif name == \"Flatten\":\n",
        "        print(\"entered flatten\")\n",
        "        self.layers.append(FlattenLayer())\n",
        "        #print(\"Created {} layer\".format(name))\n",
        "      elif name == \"Dropout\": \n",
        "        print(\"entered Dropout\")\n",
        "        rate = layer[\"RATE\"]\n",
        "        self.layers.append(Dropout(rate))\n",
        "        #print(\"Created {} layers with {} rate\".format(name, rate))\n",
        "      #print(self.layer)\n",
        "\n",
        "  def gettfmodel(self):\n",
        "    model = keras.Sequential()\n",
        "    for layer in self.layers:\n",
        "      print(layer)\n",
        "      model.add(layer.getkeraslayer())\n",
        "    model.compile(optimizer=self.optimizer, loss=self.loss, metrics=self.metrics)\n",
        "    return model\n",
        " "
      ],
      "execution_count": 16,
      "outputs": []
    },
    {
      "cell_type": "code",
      "metadata": {
        "id": "cHzekkSH-aGV",
        "colab_type": "code",
        "colab": {
          "base_uri": "https://localhost:8080/",
          "height": 164
        },
        "outputId": "3cb7a8d7-b278-44cf-f76f-a6ecd49dfa12"
      },
      "source": [
        "#Model(ind)"
      ],
      "execution_count": 17,
      "outputs": [
        {
          "output_type": "error",
          "ename": "NameError",
          "evalue": "ignored",
          "traceback": [
            "\u001b[0;31m---------------------------------------------------------------------------\u001b[0m",
            "\u001b[0;31mNameError\u001b[0m                                 Traceback (most recent call last)",
            "\u001b[0;32m<ipython-input-17-20d707820f0a>\u001b[0m in \u001b[0;36m<module>\u001b[0;34m()\u001b[0m\n\u001b[0;32m----> 1\u001b[0;31m \u001b[0mModel\u001b[0m\u001b[0;34m(\u001b[0m\u001b[0mind\u001b[0m\u001b[0;34m)\u001b[0m\u001b[0;34m\u001b[0m\u001b[0;34m\u001b[0m\u001b[0m\n\u001b[0m",
            "\u001b[0;31mNameError\u001b[0m: name 'ind' is not defined"
          ]
        }
      ]
    },
    {
      "cell_type": "code",
      "metadata": {
        "id": "nrZKBGxXXMJp",
        "colab_type": "code",
        "colab": {
          "base_uri": "https://localhost:8080/",
          "height": 34
        },
        "outputId": "a961dd28-3f9d-4093-d5d3-f70428a3ab6c"
      },
      "source": [
        "from keras.utils.layer_utils import count_params\n",
        "def evalCNN(population):\n",
        "  print(\"entered evalCNN\")\n",
        "  print(\"printing the population received in evalCNN params\")\n",
        "  print(population)\n",
        "  outparam={}\n",
        "  test_model=Model(population)\n",
        "  tf_model= test_model.gettfmodel()\n",
        "  print(\"printing model in gettfmodel\")\n",
        "  print(tf_model)\n",
        "  history = tf_model.fit(x=images_train,y=labels_train, epochs=1, batch_size=100)\n",
        "  print(history)\n",
        "  res = tf_model.evaluate(images_test, labels_test)\n",
        "  Total_Params=count_params(tf_model.trainable_weights)+count_params(tf_model.non_trainable_weights)\n",
        "  return res[0]       # Ensure overweighted bags are dominated"
      ],
      "execution_count": 18,
      "outputs": [
        {
          "output_type": "stream",
          "text": [
            "Using TensorFlow backend.\n"
          ],
          "name": "stderr"
        }
      ]
    },
    {
      "cell_type": "markdown",
      "metadata": {
        "id": "61U5AF6OJu9z",
        "colab_type": "text"
      },
      "source": [
        "**Implementation of NSGA-II Algorithm (Deap)**"
      ]
    },
    {
      "cell_type": "code",
      "metadata": {
        "id": "gePqc__FXRhS",
        "colab_type": "code",
        "colab": {}
      },
      "source": [
        "toolbox.register(\"evaluate\", evalCNN)\n",
        "toolbox.register(\"select\", tools.selNSGA2)"
      ],
      "execution_count": 19,
      "outputs": []
    },
    {
      "cell_type": "code",
      "metadata": {
        "id": "2k-61eCSXW-e",
        "colab_type": "code",
        "colab": {
          "base_uri": "https://localhost:8080/",
          "height": 1000
        },
        "outputId": "514241f5-c6de-4941-9dd7-a63e683609f9"
      },
      "source": [
        "\n",
        "# begin the evolution\n",
        "# random.seed(64)\n",
        "\n",
        "# instantiate a population\n",
        "CXPB, MUTPB, NGEN = 0.0, 0.0, 10\n",
        "for g in range(NGEN):\n",
        "    print(\"-- Generation %i --\" % g)\n",
        "\n",
        "    # select the next generation individuals\n",
        "    print(\"printing the population before it generates offspring\")\n",
        "    print(population)\n",
        "    offspring = toolbox.select(population, len(population))\n",
        "    print(\"offspring\")\n",
        "    print(offspring)\n",
        "    # clone the selected individuals\n",
        "    offspring = list(map(toolbox.clone, offspring))\n",
        "\n",
        "    # # apply crossover and mutation on the offspring\n",
        "    # for child1, child2 in zip(offspring[::2], offspring[1::2]):\n",
        "    #     if random.random() < CXPB:\n",
        "    #         toolbox.mate(child1, child2)\n",
        "    #         del child1.fitness.values\n",
        "    #         del child2.fitness.values\n",
        "\n",
        "    # for mutant in offspring:\n",
        "    #     if random.random() < MUTPB:\n",
        "    #         toolbox.mutate(mutant)\n",
        "    #         del mutant.fitness.values\n",
        "\n",
        "    # evaluate the individuals with an invalid fitness\n",
        "    invalid_ind = [ind for ind in offspring if not ind.fitness.valid]\n",
        "    # fitnesses = map(toolbox.evaluate, invalid_ind)\n",
        "    # for ind, fit in zip(invalid_ind, fitnesses):\n",
        "    #     ind.fitness.values = fit\n",
        "\n",
        "    # print(\"  Evaluated %i individuals\" % len(invalid_ind))\n",
        "\n",
        "    # evaluate the entire population\n",
        "    print(\"printing offspring being passed to evalCNN as params\")\n",
        "    print(offspring)\n",
        "    fitnesses= list(map(toolbox.evaluate, offspring))\n",
        "    for ind, fit in zip(population, fitnesses):\n",
        "      ind.fitness.values = fit\n",
        "\n",
        "    print(\"  Evaluated %i individuals\" % len(population))\n",
        "\n",
        "    # the population is entirely replaced by the offspring\n",
        "    population[:] = offspring\n",
        "\n",
        "    # gather all the fitnesses in one list and print the stats\n",
        "    fits = [ind.fitness.values[0] for ind in population]\n",
        "\n",
        "    length = len(population)\n",
        "    mean = sum(fits) / length\n",
        "    sum2 = sum(x*x for x in fits)\n",
        "    std = abs(sum2 / length - mean**2)**0.5\n",
        " #As there is no mating, the population doesn't improve\n",
        "    print(\"  Min %s\" % min(fits))\n",
        "    print(\"  Max %s\" % max(fits))\n",
        "    print(\"  Avg %s\" % mean)\n",
        "    print(\"  Std %s\" % std)"
      ],
      "execution_count": 20,
      "outputs": [
        {
          "output_type": "stream",
          "text": [
            "-- Generation 0 --\n",
            "printing the population before it generates offspring\n",
            "[[{'name': 'Conv2D', 'INPUT_SIZE': [28, 28, 1], 'FILTERS': 14, 'KERNEL_SIZE': [3, 3], 'STRIDE': (1, 1), 'PADDING': 0}, {'name': 'Maxpool2D', 'POOL_SIZE': [2, 2]}, {'name': 'Flatten'}, {'name': 'Dense', 'UNITS': 128, 'ACTIVATION': 'relu'}, {'name': 'Dropout', 'RATE': 0.2}, {'name': 'Dense', 'UNITS': 10, 'ACTIVATION': 'softmax'}], [{'name': 'Conv2D', 'INPUT_SIZE': [28, 28, 1], 'FILTERS': 14, 'KERNEL_SIZE': [1, 1], 'STRIDE': (1, 1), 'PADDING': 2}, {'name': 'Maxpool2D', 'POOL_SIZE': [2, 2]}, {'name': 'Flatten'}, {'name': 'Dense', 'UNITS': 128, 'ACTIVATION': 'relu'}, {'name': 'Dropout', 'RATE': 0.2}, {'name': 'Dense', 'UNITS': 10, 'ACTIVATION': 'softmax'}], [{'name': 'Conv2D', 'INPUT_SIZE': [28, 28, 1], 'FILTERS': 4, 'KERNEL_SIZE': [5, 5], 'STRIDE': (1, 1), 'PADDING': 0}, {'name': 'Maxpool2D', 'POOL_SIZE': [2, 2]}, {'name': 'Flatten'}, {'name': 'Dense', 'UNITS': 128, 'ACTIVATION': 'relu'}, {'name': 'Dropout', 'RATE': 0.2}, {'name': 'Dense', 'UNITS': 10, 'ACTIVATION': 'softmax'}], [{'name': 'Conv2D', 'INPUT_SIZE': [28, 28, 1], 'FILTERS': 10, 'KERNEL_SIZE': [3, 3], 'STRIDE': (1, 1), 'PADDING': 2}, {'name': 'Maxpool2D', 'POOL_SIZE': [2, 2]}, {'name': 'Flatten'}, {'name': 'Dense', 'UNITS': 128, 'ACTIVATION': 'relu'}, {'name': 'Dropout', 'RATE': 0.2}, {'name': 'Dense', 'UNITS': 10, 'ACTIVATION': 'softmax'}], [{'name': 'Conv2D', 'INPUT_SIZE': [28, 28, 1], 'FILTERS': 14, 'KERNEL_SIZE': [1, 1], 'STRIDE': (1, 1), 'PADDING': 2}, {'name': 'Maxpool2D', 'POOL_SIZE': [2, 2]}, {'name': 'Flatten'}, {'name': 'Dense', 'UNITS': 128, 'ACTIVATION': 'relu'}, {'name': 'Dropout', 'RATE': 0.2}, {'name': 'Dense', 'UNITS': 10, 'ACTIVATION': 'softmax'}], [{'name': 'Conv2D', 'INPUT_SIZE': [28, 28, 1], 'FILTERS': 8, 'KERNEL_SIZE': [5, 5], 'STRIDE': (1, 1), 'PADDING': 0}, {'name': 'Maxpool2D', 'POOL_SIZE': [2, 2]}, {'name': 'Flatten'}, {'name': 'Dense', 'UNITS': 128, 'ACTIVATION': 'relu'}, {'name': 'Dropout', 'RATE': 0.2}, {'name': 'Dense', 'UNITS': 10, 'ACTIVATION': 'softmax'}]]\n",
            "offspring\n",
            "[[{'name': 'Conv2D', 'INPUT_SIZE': [28, 28, 1], 'FILTERS': 14, 'KERNEL_SIZE': [3, 3], 'STRIDE': (1, 1), 'PADDING': 0}, {'name': 'Maxpool2D', 'POOL_SIZE': [2, 2]}, {'name': 'Flatten'}, {'name': 'Dense', 'UNITS': 128, 'ACTIVATION': 'relu'}, {'name': 'Dropout', 'RATE': 0.2}, {'name': 'Dense', 'UNITS': 10, 'ACTIVATION': 'softmax'}], [{'name': 'Conv2D', 'INPUT_SIZE': [28, 28, 1], 'FILTERS': 14, 'KERNEL_SIZE': [1, 1], 'STRIDE': (1, 1), 'PADDING': 2}, {'name': 'Maxpool2D', 'POOL_SIZE': [2, 2]}, {'name': 'Flatten'}, {'name': 'Dense', 'UNITS': 128, 'ACTIVATION': 'relu'}, {'name': 'Dropout', 'RATE': 0.2}, {'name': 'Dense', 'UNITS': 10, 'ACTIVATION': 'softmax'}], [{'name': 'Conv2D', 'INPUT_SIZE': [28, 28, 1], 'FILTERS': 4, 'KERNEL_SIZE': [5, 5], 'STRIDE': (1, 1), 'PADDING': 0}, {'name': 'Maxpool2D', 'POOL_SIZE': [2, 2]}, {'name': 'Flatten'}, {'name': 'Dense', 'UNITS': 128, 'ACTIVATION': 'relu'}, {'name': 'Dropout', 'RATE': 0.2}, {'name': 'Dense', 'UNITS': 10, 'ACTIVATION': 'softmax'}], [{'name': 'Conv2D', 'INPUT_SIZE': [28, 28, 1], 'FILTERS': 10, 'KERNEL_SIZE': [3, 3], 'STRIDE': (1, 1), 'PADDING': 2}, {'name': 'Maxpool2D', 'POOL_SIZE': [2, 2]}, {'name': 'Flatten'}, {'name': 'Dense', 'UNITS': 128, 'ACTIVATION': 'relu'}, {'name': 'Dropout', 'RATE': 0.2}, {'name': 'Dense', 'UNITS': 10, 'ACTIVATION': 'softmax'}], [{'name': 'Conv2D', 'INPUT_SIZE': [28, 28, 1], 'FILTERS': 14, 'KERNEL_SIZE': [1, 1], 'STRIDE': (1, 1), 'PADDING': 2}, {'name': 'Maxpool2D', 'POOL_SIZE': [2, 2]}, {'name': 'Flatten'}, {'name': 'Dense', 'UNITS': 128, 'ACTIVATION': 'relu'}, {'name': 'Dropout', 'RATE': 0.2}, {'name': 'Dense', 'UNITS': 10, 'ACTIVATION': 'softmax'}], [{'name': 'Conv2D', 'INPUT_SIZE': [28, 28, 1], 'FILTERS': 8, 'KERNEL_SIZE': [5, 5], 'STRIDE': (1, 1), 'PADDING': 0}, {'name': 'Maxpool2D', 'POOL_SIZE': [2, 2]}, {'name': 'Flatten'}, {'name': 'Dense', 'UNITS': 128, 'ACTIVATION': 'relu'}, {'name': 'Dropout', 'RATE': 0.2}, {'name': 'Dense', 'UNITS': 10, 'ACTIVATION': 'softmax'}]]\n",
            "printing offspring being passed to evalCNN as params\n",
            "[[{'name': 'Conv2D', 'INPUT_SIZE': [28, 28, 1], 'FILTERS': 14, 'KERNEL_SIZE': [3, 3], 'STRIDE': (1, 1), 'PADDING': 0}, {'name': 'Maxpool2D', 'POOL_SIZE': [2, 2]}, {'name': 'Flatten'}, {'name': 'Dense', 'UNITS': 128, 'ACTIVATION': 'relu'}, {'name': 'Dropout', 'RATE': 0.2}, {'name': 'Dense', 'UNITS': 10, 'ACTIVATION': 'softmax'}], [{'name': 'Conv2D', 'INPUT_SIZE': [28, 28, 1], 'FILTERS': 14, 'KERNEL_SIZE': [1, 1], 'STRIDE': (1, 1), 'PADDING': 2}, {'name': 'Maxpool2D', 'POOL_SIZE': [2, 2]}, {'name': 'Flatten'}, {'name': 'Dense', 'UNITS': 128, 'ACTIVATION': 'relu'}, {'name': 'Dropout', 'RATE': 0.2}, {'name': 'Dense', 'UNITS': 10, 'ACTIVATION': 'softmax'}], [{'name': 'Conv2D', 'INPUT_SIZE': [28, 28, 1], 'FILTERS': 4, 'KERNEL_SIZE': [5, 5], 'STRIDE': (1, 1), 'PADDING': 0}, {'name': 'Maxpool2D', 'POOL_SIZE': [2, 2]}, {'name': 'Flatten'}, {'name': 'Dense', 'UNITS': 128, 'ACTIVATION': 'relu'}, {'name': 'Dropout', 'RATE': 0.2}, {'name': 'Dense', 'UNITS': 10, 'ACTIVATION': 'softmax'}], [{'name': 'Conv2D', 'INPUT_SIZE': [28, 28, 1], 'FILTERS': 10, 'KERNEL_SIZE': [3, 3], 'STRIDE': (1, 1), 'PADDING': 2}, {'name': 'Maxpool2D', 'POOL_SIZE': [2, 2]}, {'name': 'Flatten'}, {'name': 'Dense', 'UNITS': 128, 'ACTIVATION': 'relu'}, {'name': 'Dropout', 'RATE': 0.2}, {'name': 'Dense', 'UNITS': 10, 'ACTIVATION': 'softmax'}], [{'name': 'Conv2D', 'INPUT_SIZE': [28, 28, 1], 'FILTERS': 14, 'KERNEL_SIZE': [1, 1], 'STRIDE': (1, 1), 'PADDING': 2}, {'name': 'Maxpool2D', 'POOL_SIZE': [2, 2]}, {'name': 'Flatten'}, {'name': 'Dense', 'UNITS': 128, 'ACTIVATION': 'relu'}, {'name': 'Dropout', 'RATE': 0.2}, {'name': 'Dense', 'UNITS': 10, 'ACTIVATION': 'softmax'}], [{'name': 'Conv2D', 'INPUT_SIZE': [28, 28, 1], 'FILTERS': 8, 'KERNEL_SIZE': [5, 5], 'STRIDE': (1, 1), 'PADDING': 0}, {'name': 'Maxpool2D', 'POOL_SIZE': [2, 2]}, {'name': 'Flatten'}, {'name': 'Dense', 'UNITS': 128, 'ACTIVATION': 'relu'}, {'name': 'Dropout', 'RATE': 0.2}, {'name': 'Dense', 'UNITS': 10, 'ACTIVATION': 'softmax'}]]\n",
            "entered evalCNN\n",
            "printing the population received in evalCNN params\n",
            "[{'name': 'Conv2D', 'INPUT_SIZE': [28, 28, 1], 'FILTERS': 14, 'KERNEL_SIZE': [3, 3], 'STRIDE': (1, 1), 'PADDING': 0}, {'name': 'Maxpool2D', 'POOL_SIZE': [2, 2]}, {'name': 'Flatten'}, {'name': 'Dense', 'UNITS': 128, 'ACTIVATION': 'relu'}, {'name': 'Dropout', 'RATE': 0.2}, {'name': 'Dense', 'UNITS': 10, 'ACTIVATION': 'softmax'}]\n",
            "enetered Model\n",
            "printing individual:\n",
            "[{'name': 'Conv2D', 'INPUT_SIZE': [28, 28, 1], 'FILTERS': 14, 'KERNEL_SIZE': [3, 3], 'STRIDE': (1, 1), 'PADDING': 0}, {'name': 'Maxpool2D', 'POOL_SIZE': [2, 2]}, {'name': 'Flatten'}, {'name': 'Dense', 'UNITS': 128, 'ACTIVATION': 'relu'}, {'name': 'Dropout', 'RATE': 0.2}, {'name': 'Dense', 'UNITS': 10, 'ACTIVATION': 'softmax'}]\n",
            "entered conv2d\n",
            "entered maxpool\n",
            "entered flatten\n",
            "entered Dense1\n",
            "entered Dropout\n",
            "entered output static\n",
            "<__main__.Conv2DLayer object at 0x7f197c9040b8>\n",
            "<__main__.MaxPool2DLayer object at 0x7f197c904400>\n",
            "<__main__.FlattenLayer object at 0x7f197c904438>\n",
            "<__main__.DenseLayer object at 0x7f197c904470>\n",
            "<__main__.Dropout object at 0x7f197c9044a8>\n",
            "<__main__.DenseLayer object at 0x7f197c9044e0>\n",
            "printing model in gettfmodel\n",
            "<tensorflow.python.keras.engine.sequential.Sequential object at 0x7f19befee0f0>\n",
            "600/600 [==============================] - 17s 28ms/step - loss: 0.2875 - accuracy: 0.9154\n",
            "<tensorflow.python.keras.callbacks.History object at 0x7f19762f03c8>\n",
            "313/313 [==============================] - 2s 7ms/step - loss: 0.1249 - accuracy: 0.9622\n",
            "entered evalCNN\n",
            "printing the population received in evalCNN params\n",
            "[{'name': 'Conv2D', 'INPUT_SIZE': [28, 28, 1], 'FILTERS': 14, 'KERNEL_SIZE': [1, 1], 'STRIDE': (1, 1), 'PADDING': 2}, {'name': 'Maxpool2D', 'POOL_SIZE': [2, 2]}, {'name': 'Flatten'}, {'name': 'Dense', 'UNITS': 128, 'ACTIVATION': 'relu'}, {'name': 'Dropout', 'RATE': 0.2}, {'name': 'Dense', 'UNITS': 10, 'ACTIVATION': 'softmax'}]\n",
            "enetered Model\n",
            "printing individual:\n",
            "[{'name': 'Conv2D', 'INPUT_SIZE': [28, 28, 1], 'FILTERS': 14, 'KERNEL_SIZE': [1, 1], 'STRIDE': (1, 1), 'PADDING': 2}, {'name': 'Maxpool2D', 'POOL_SIZE': [2, 2]}, {'name': 'Flatten'}, {'name': 'Dense', 'UNITS': 128, 'ACTIVATION': 'relu'}, {'name': 'Dropout', 'RATE': 0.2}, {'name': 'Dense', 'UNITS': 10, 'ACTIVATION': 'softmax'}]\n",
            "entered conv2d\n",
            "entered maxpool\n",
            "entered flatten\n",
            "entered Dense1\n",
            "entered Dropout\n",
            "entered output static\n",
            "<__main__.Conv2DLayer object at 0x7f197c904390>\n",
            "<__main__.MaxPool2DLayer object at 0x7f197c904470>\n",
            "<__main__.FlattenLayer object at 0x7f197c9044a8>\n",
            "<__main__.DenseLayer object at 0x7f197c9044e0>\n",
            "<__main__.Dropout object at 0x7f197c8b39e8>\n",
            "<__main__.DenseLayer object at 0x7f197c092cc0>\n",
            "printing model in gettfmodel\n",
            "<tensorflow.python.keras.engine.sequential.Sequential object at 0x7f197347eb38>\n",
            "600/600 [==============================] - 12s 19ms/step - loss: 0.3413 - accuracy: 0.9003\n",
            "<tensorflow.python.keras.callbacks.History object at 0x7f19733f00f0>\n",
            "313/313 [==============================] - 1s 4ms/step - loss: 0.1621 - accuracy: 0.9530\n",
            "entered evalCNN\n",
            "printing the population received in evalCNN params\n",
            "[{'name': 'Conv2D', 'INPUT_SIZE': [28, 28, 1], 'FILTERS': 4, 'KERNEL_SIZE': [5, 5], 'STRIDE': (1, 1), 'PADDING': 0}, {'name': 'Maxpool2D', 'POOL_SIZE': [2, 2]}, {'name': 'Flatten'}, {'name': 'Dense', 'UNITS': 128, 'ACTIVATION': 'relu'}, {'name': 'Dropout', 'RATE': 0.2}, {'name': 'Dense', 'UNITS': 10, 'ACTIVATION': 'softmax'}]\n",
            "enetered Model\n",
            "printing individual:\n",
            "[{'name': 'Conv2D', 'INPUT_SIZE': [28, 28, 1], 'FILTERS': 4, 'KERNEL_SIZE': [5, 5], 'STRIDE': (1, 1), 'PADDING': 0}, {'name': 'Maxpool2D', 'POOL_SIZE': [2, 2]}, {'name': 'Flatten'}, {'name': 'Dense', 'UNITS': 128, 'ACTIVATION': 'relu'}, {'name': 'Dropout', 'RATE': 0.2}, {'name': 'Dense', 'UNITS': 10, 'ACTIVATION': 'softmax'}]\n",
            "entered conv2d\n",
            "entered maxpool\n",
            "entered flatten\n",
            "entered Dense1\n",
            "entered Dropout\n",
            "entered output static\n",
            "<__main__.Conv2DLayer object at 0x7f197c904400>\n",
            "<__main__.MaxPool2DLayer object at 0x7f197c9044e0>\n",
            "<__main__.FlattenLayer object at 0x7f197c8b39e8>\n",
            "<__main__.DenseLayer object at 0x7f197c092cc0>\n",
            "<__main__.Dropout object at 0x7f197343ea58>\n",
            "<__main__.DenseLayer object at 0x7f1973448908>\n",
            "printing model in gettfmodel\n",
            "<tensorflow.python.keras.engine.sequential.Sequential object at 0x7f197c904390>\n",
            "600/600 [==============================] - 19s 31ms/step - loss: 0.3503 - accuracy: 0.8948\n",
            "<tensorflow.python.keras.callbacks.History object at 0x7f197226dd68>\n",
            "313/313 [==============================] - 2s 6ms/step - loss: 0.1349 - accuracy: 0.9590\n",
            "entered evalCNN\n",
            "printing the population received in evalCNN params\n",
            "[{'name': 'Conv2D', 'INPUT_SIZE': [28, 28, 1], 'FILTERS': 10, 'KERNEL_SIZE': [3, 3], 'STRIDE': (1, 1), 'PADDING': 2}, {'name': 'Maxpool2D', 'POOL_SIZE': [2, 2]}, {'name': 'Flatten'}, {'name': 'Dense', 'UNITS': 128, 'ACTIVATION': 'relu'}, {'name': 'Dropout', 'RATE': 0.2}, {'name': 'Dense', 'UNITS': 10, 'ACTIVATION': 'softmax'}]\n",
            "enetered Model\n",
            "printing individual:\n",
            "[{'name': 'Conv2D', 'INPUT_SIZE': [28, 28, 1], 'FILTERS': 10, 'KERNEL_SIZE': [3, 3], 'STRIDE': (1, 1), 'PADDING': 2}, {'name': 'Maxpool2D', 'POOL_SIZE': [2, 2]}, {'name': 'Flatten'}, {'name': 'Dense', 'UNITS': 128, 'ACTIVATION': 'relu'}, {'name': 'Dropout', 'RATE': 0.2}, {'name': 'Dense', 'UNITS': 10, 'ACTIVATION': 'softmax'}]\n",
            "entered conv2d\n",
            "entered maxpool\n",
            "entered flatten\n",
            "entered Dense1\n",
            "entered Dropout\n",
            "entered output static\n",
            "<__main__.Conv2DLayer object at 0x7f197c904470>\n",
            "<__main__.MaxPool2DLayer object at 0x7f197c9044e0>\n",
            "<__main__.FlattenLayer object at 0x7f197c8b39e8>\n",
            "<__main__.DenseLayer object at 0x7f197c092cc0>\n",
            "<__main__.Dropout object at 0x7f197343ea58>\n",
            "<__main__.DenseLayer object at 0x7f1973448908>\n",
            "printing model in gettfmodel\n",
            "<tensorflow.python.keras.engine.sequential.Sequential object at 0x7f197c904400>\n",
            "600/600 [==============================] - 14s 24ms/step - loss: 0.3015 - accuracy: 0.9112\n",
            "<tensorflow.python.keras.callbacks.History object at 0x7f197113b828>\n",
            "313/313 [==============================] - 2s 6ms/step - loss: 0.1446 - accuracy: 0.9553\n",
            "entered evalCNN\n",
            "printing the population received in evalCNN params\n",
            "[{'name': 'Conv2D', 'INPUT_SIZE': [28, 28, 1], 'FILTERS': 14, 'KERNEL_SIZE': [1, 1], 'STRIDE': (1, 1), 'PADDING': 2}, {'name': 'Maxpool2D', 'POOL_SIZE': [2, 2]}, {'name': 'Flatten'}, {'name': 'Dense', 'UNITS': 128, 'ACTIVATION': 'relu'}, {'name': 'Dropout', 'RATE': 0.2}, {'name': 'Dense', 'UNITS': 10, 'ACTIVATION': 'softmax'}]\n",
            "enetered Model\n",
            "printing individual:\n",
            "[{'name': 'Conv2D', 'INPUT_SIZE': [28, 28, 1], 'FILTERS': 14, 'KERNEL_SIZE': [1, 1], 'STRIDE': (1, 1), 'PADDING': 2}, {'name': 'Maxpool2D', 'POOL_SIZE': [2, 2]}, {'name': 'Flatten'}, {'name': 'Dense', 'UNITS': 128, 'ACTIVATION': 'relu'}, {'name': 'Dropout', 'RATE': 0.2}, {'name': 'Dense', 'UNITS': 10, 'ACTIVATION': 'softmax'}]\n",
            "entered conv2d\n",
            "entered maxpool\n",
            "entered flatten\n",
            "entered Dense1\n",
            "entered Dropout\n",
            "entered output static\n",
            "<__main__.Conv2DLayer object at 0x7f197c904470>\n",
            "<__main__.MaxPool2DLayer object at 0x7f197c9044e0>\n",
            "<__main__.FlattenLayer object at 0x7f197c8b39e8>\n",
            "<__main__.DenseLayer object at 0x7f197c092cc0>\n",
            "<__main__.Dropout object at 0x7f197343ea58>\n",
            "<__main__.DenseLayer object at 0x7f1973448908>\n",
            "printing model in gettfmodel\n",
            "<tensorflow.python.keras.engine.sequential.Sequential object at 0x7f197197c470>\n",
            "600/600 [==============================] - 12s 19ms/step - loss: 0.3473 - accuracy: 0.9004\n",
            "<tensorflow.python.keras.callbacks.History object at 0x7f197107bb70>\n",
            "313/313 [==============================] - 1s 4ms/step - loss: 0.1660 - accuracy: 0.9492\n",
            "entered evalCNN\n",
            "printing the population received in evalCNN params\n",
            "[{'name': 'Conv2D', 'INPUT_SIZE': [28, 28, 1], 'FILTERS': 8, 'KERNEL_SIZE': [5, 5], 'STRIDE': (1, 1), 'PADDING': 0}, {'name': 'Maxpool2D', 'POOL_SIZE': [2, 2]}, {'name': 'Flatten'}, {'name': 'Dense', 'UNITS': 128, 'ACTIVATION': 'relu'}, {'name': 'Dropout', 'RATE': 0.2}, {'name': 'Dense', 'UNITS': 10, 'ACTIVATION': 'softmax'}]\n",
            "enetered Model\n",
            "printing individual:\n",
            "[{'name': 'Conv2D', 'INPUT_SIZE': [28, 28, 1], 'FILTERS': 8, 'KERNEL_SIZE': [5, 5], 'STRIDE': (1, 1), 'PADDING': 0}, {'name': 'Maxpool2D', 'POOL_SIZE': [2, 2]}, {'name': 'Flatten'}, {'name': 'Dense', 'UNITS': 128, 'ACTIVATION': 'relu'}, {'name': 'Dropout', 'RATE': 0.2}, {'name': 'Dense', 'UNITS': 10, 'ACTIVATION': 'softmax'}]\n",
            "entered conv2d\n",
            "entered maxpool\n",
            "entered flatten\n",
            "entered Dense1\n",
            "entered Dropout\n",
            "entered output static\n",
            "<__main__.Conv2DLayer object at 0x7f197c904470>\n",
            "<__main__.MaxPool2DLayer object at 0x7f197c9044e0>\n",
            "<__main__.FlattenLayer object at 0x7f197c8b39e8>\n",
            "<__main__.DenseLayer object at 0x7f197c092cc0>\n",
            "<__main__.Dropout object at 0x7f197343ea58>\n",
            "<__main__.DenseLayer object at 0x7f1973448908>\n",
            "printing model in gettfmodel\n",
            "<tensorflow.python.keras.engine.sequential.Sequential object at 0x7f19721a3fd0>\n",
            "600/600 [==============================] - 18s 29ms/step - loss: 0.3108 - accuracy: 0.9088\n",
            "<tensorflow.python.keras.callbacks.History object at 0x7f196eea66d8>\n",
            "313/313 [==============================] - 2s 6ms/step - loss: 0.1267 - accuracy: 0.9619\n"
          ],
          "name": "stdout"
        },
        {
          "output_type": "error",
          "ename": "TypeError",
          "evalue": "ignored",
          "traceback": [
            "\u001b[0;31m---------------------------------------------------------------------------\u001b[0m",
            "\u001b[0;31mTypeError\u001b[0m                                 Traceback (most recent call last)",
            "\u001b[0;32m/usr/local/lib/python3.6/dist-packages/deap/base.py\u001b[0m in \u001b[0;36msetValues\u001b[0;34m(self, values)\u001b[0m\n\u001b[1;32m    188\u001b[0m         \u001b[0;32mtry\u001b[0m\u001b[0;34m:\u001b[0m\u001b[0;34m\u001b[0m\u001b[0;34m\u001b[0m\u001b[0m\n\u001b[0;32m--> 189\u001b[0;31m             \u001b[0mself\u001b[0m\u001b[0;34m.\u001b[0m\u001b[0mwvalues\u001b[0m \u001b[0;34m=\u001b[0m \u001b[0mtuple\u001b[0m\u001b[0;34m(\u001b[0m\u001b[0mmap\u001b[0m\u001b[0;34m(\u001b[0m\u001b[0mmul\u001b[0m\u001b[0;34m,\u001b[0m \u001b[0mvalues\u001b[0m\u001b[0;34m,\u001b[0m \u001b[0mself\u001b[0m\u001b[0;34m.\u001b[0m\u001b[0mweights\u001b[0m\u001b[0;34m)\u001b[0m\u001b[0;34m)\u001b[0m\u001b[0;34m\u001b[0m\u001b[0;34m\u001b[0m\u001b[0m\n\u001b[0m\u001b[1;32m    190\u001b[0m         \u001b[0;32mexcept\u001b[0m \u001b[0mTypeError\u001b[0m\u001b[0;34m:\u001b[0m\u001b[0;34m\u001b[0m\u001b[0;34m\u001b[0m\u001b[0m\n",
            "\u001b[0;31mTypeError\u001b[0m: 'float' object is not iterable",
            "\nDuring handling of the above exception, another exception occurred:\n",
            "\u001b[0;31mTypeError\u001b[0m                                 Traceback (most recent call last)",
            "\u001b[0;32m<ipython-input-20-1c909d7997bc>\u001b[0m in \u001b[0;36m<module>\u001b[0;34m()\u001b[0m\n\u001b[1;32m     42\u001b[0m     \u001b[0mfitnesses\u001b[0m\u001b[0;34m=\u001b[0m \u001b[0mlist\u001b[0m\u001b[0;34m(\u001b[0m\u001b[0mmap\u001b[0m\u001b[0;34m(\u001b[0m\u001b[0mtoolbox\u001b[0m\u001b[0;34m.\u001b[0m\u001b[0mevaluate\u001b[0m\u001b[0;34m,\u001b[0m \u001b[0moffspring\u001b[0m\u001b[0;34m)\u001b[0m\u001b[0;34m)\u001b[0m\u001b[0;34m\u001b[0m\u001b[0;34m\u001b[0m\u001b[0m\n\u001b[1;32m     43\u001b[0m     \u001b[0;32mfor\u001b[0m \u001b[0mind\u001b[0m\u001b[0;34m,\u001b[0m \u001b[0mfit\u001b[0m \u001b[0;32min\u001b[0m \u001b[0mzip\u001b[0m\u001b[0;34m(\u001b[0m\u001b[0mpopulation\u001b[0m\u001b[0;34m,\u001b[0m \u001b[0mfitnesses\u001b[0m\u001b[0;34m)\u001b[0m\u001b[0;34m:\u001b[0m\u001b[0;34m\u001b[0m\u001b[0;34m\u001b[0m\u001b[0m\n\u001b[0;32m---> 44\u001b[0;31m       \u001b[0mind\u001b[0m\u001b[0;34m.\u001b[0m\u001b[0mfitness\u001b[0m\u001b[0;34m.\u001b[0m\u001b[0mvalues\u001b[0m \u001b[0;34m=\u001b[0m \u001b[0mfit\u001b[0m\u001b[0;34m\u001b[0m\u001b[0;34m\u001b[0m\u001b[0m\n\u001b[0m\u001b[1;32m     45\u001b[0m \u001b[0;34m\u001b[0m\u001b[0m\n\u001b[1;32m     46\u001b[0m     \u001b[0mprint\u001b[0m\u001b[0;34m(\u001b[0m\u001b[0;34m\"  Evaluated %i individuals\"\u001b[0m \u001b[0;34m%\u001b[0m \u001b[0mlen\u001b[0m\u001b[0;34m(\u001b[0m\u001b[0mpopulation\u001b[0m\u001b[0;34m)\u001b[0m\u001b[0;34m)\u001b[0m\u001b[0;34m\u001b[0m\u001b[0;34m\u001b[0m\u001b[0m\n",
            "\u001b[0;32m/usr/local/lib/python3.6/dist-packages/deap/base.py\u001b[0m in \u001b[0;36msetValues\u001b[0;34m(self, values)\u001b[0m\n\u001b[1;32m    195\u001b[0m                               \u001b[0;34m\"fitness with weights %s.\"\u001b[0m\u001b[0;34m\u001b[0m\u001b[0;34m\u001b[0m\u001b[0m\n\u001b[1;32m    196\u001b[0m                               % (self.__class__, values, type(values),\n\u001b[0;32m--> 197\u001b[0;31m                                  self.weights)).with_traceback(traceback)\n\u001b[0m\u001b[1;32m    198\u001b[0m \u001b[0;34m\u001b[0m\u001b[0m\n\u001b[1;32m    199\u001b[0m     \u001b[0;32mdef\u001b[0m \u001b[0mdelValues\u001b[0m\u001b[0;34m(\u001b[0m\u001b[0mself\u001b[0m\u001b[0;34m)\u001b[0m\u001b[0;34m:\u001b[0m\u001b[0;34m\u001b[0m\u001b[0;34m\u001b[0m\u001b[0m\n",
            "\u001b[0;32m/usr/local/lib/python3.6/dist-packages/deap/base.py\u001b[0m in \u001b[0;36msetValues\u001b[0;34m(self, values)\u001b[0m\n\u001b[1;32m    187\u001b[0m     \u001b[0;32mdef\u001b[0m \u001b[0msetValues\u001b[0m\u001b[0;34m(\u001b[0m\u001b[0mself\u001b[0m\u001b[0;34m,\u001b[0m \u001b[0mvalues\u001b[0m\u001b[0;34m)\u001b[0m\u001b[0;34m:\u001b[0m\u001b[0;34m\u001b[0m\u001b[0;34m\u001b[0m\u001b[0m\n\u001b[1;32m    188\u001b[0m         \u001b[0;32mtry\u001b[0m\u001b[0;34m:\u001b[0m\u001b[0;34m\u001b[0m\u001b[0;34m\u001b[0m\u001b[0m\n\u001b[0;32m--> 189\u001b[0;31m             \u001b[0mself\u001b[0m\u001b[0;34m.\u001b[0m\u001b[0mwvalues\u001b[0m \u001b[0;34m=\u001b[0m \u001b[0mtuple\u001b[0m\u001b[0;34m(\u001b[0m\u001b[0mmap\u001b[0m\u001b[0;34m(\u001b[0m\u001b[0mmul\u001b[0m\u001b[0;34m,\u001b[0m \u001b[0mvalues\u001b[0m\u001b[0;34m,\u001b[0m \u001b[0mself\u001b[0m\u001b[0;34m.\u001b[0m\u001b[0mweights\u001b[0m\u001b[0;34m)\u001b[0m\u001b[0;34m)\u001b[0m\u001b[0;34m\u001b[0m\u001b[0;34m\u001b[0m\u001b[0m\n\u001b[0m\u001b[1;32m    190\u001b[0m         \u001b[0;32mexcept\u001b[0m \u001b[0mTypeError\u001b[0m\u001b[0;34m:\u001b[0m\u001b[0;34m\u001b[0m\u001b[0;34m\u001b[0m\u001b[0m\n\u001b[1;32m    191\u001b[0m             \u001b[0m_\u001b[0m\u001b[0;34m,\u001b[0m \u001b[0m_\u001b[0m\u001b[0;34m,\u001b[0m \u001b[0mtraceback\u001b[0m \u001b[0;34m=\u001b[0m \u001b[0msys\u001b[0m\u001b[0;34m.\u001b[0m\u001b[0mexc_info\u001b[0m\u001b[0;34m(\u001b[0m\u001b[0;34m)\u001b[0m\u001b[0;34m\u001b[0m\u001b[0;34m\u001b[0m\u001b[0m\n",
            "\u001b[0;31mTypeError\u001b[0m: Both weights and assigned values must be a sequence of numbers when assigning to values of <class 'deap.creator.FitnessMulti'>. Currently assigning value(s) 0.12490978091955185 of <class 'float'> to a fitness with weights (-1.0,)."
          ]
        }
      ]
    }
  ]
}